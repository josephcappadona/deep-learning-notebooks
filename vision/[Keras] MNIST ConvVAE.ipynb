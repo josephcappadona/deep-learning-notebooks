{
  "nbformat": 4,
  "nbformat_minor": 0,
  "metadata": {
    "accelerator": "GPU",
    "colab": {
      "name": "[Keras] MNIST ConvVAE.ipynb",
      "provenance": [],
      "collapsed_sections": [
        "iFua5lSM192y",
        "o2JzijLs5mrm",
        "Utgu8lG_5PTY",
        "9FKhFlde4tQe"
      ],
      "toc_visible": true,
      "machine_shape": "hm"
    },
    "kernelspec": {
      "display_name": "venv",
      "language": "python",
      "name": "venv"
    },
    "language_info": {
      "codemirror_mode": {
        "name": "ipython",
        "version": 3
      },
      "file_extension": ".py",
      "mimetype": "text/x-python",
      "name": "python",
      "nbconvert_exporter": "python",
      "pygments_lexer": "ipython3",
      "version": "3.7.2"
    }
  },
  "cells": [
    {
      "cell_type": "markdown",
      "metadata": {
        "id": "iFua5lSM192y"
      },
      "source": [
        "# Imports"
      ]
    },
    {
      "cell_type": "code",
      "metadata": {
        "id": "GlKKR_cZrdEm"
      },
      "source": [
        "import tensorflow as tf\n",
        "from tensorflow.keras.models import Model\n",
        "from tensorflow.keras.layers import (\n",
        "    Input,\n",
        "    Activation,\n",
        "    Conv2D,\n",
        "    Conv2DTranspose,\n",
        "    MaxPooling2D,\n",
        "    ZeroPadding2D,\n",
        "    LeakyReLU,\n",
        "    ReLU,\n",
        "    BatchNormalization,\n",
        "    Flatten,\n",
        "    AveragePooling2D,\n",
        "    add,\n",
        "    UpSampling2D,\n",
        "    Dense,\n",
        "    Flatten,\n",
        "    Layer,\n",
        "    Reshape,\n",
        "    Dropout,\n",
        "    Activation,\n",
        "    Cropping2D,\n",
        ")\n",
        "from tensorflow.keras.regularizers import l1\n",
        "from tensorflow.keras.optimizers import Adam\n",
        "from tensorflow.keras.losses import CategoricalCrossentropy\n",
        "from tensorflow.keras.metrics import CategoricalAccuracy\n",
        "from tensorflow.keras.utils import plot_model, to_categorical\n",
        "from tensorflow.keras.preprocessing.image import ImageDataGenerator\n",
        "from sklearn.model_selection import train_test_split\n",
        "from sklearn.cluster import DBSCAN\n",
        "\n",
        "import cv2\n",
        "import numpy as np\n",
        "import matplotlib.pyplot as plt\n",
        "import math\n",
        "import random\n",
        "\n",
        "from pathlib import Path\n",
        "from os import listdir\n",
        "from PIL import Image\n",
        "from pprint import pprint\n",
        "from collections import defaultdict\n",
        "from numpy.random import permutation\n",
        "from abc import ABC\n",
        "from typing import Tuple\n",
        "\n",
        "from sklearn.model_selection import train_test_split\n",
        "from tensorflow.keras.utils import plot_model\n",
        "%matplotlib inline"
      ],
      "execution_count": 1,
      "outputs": []
    },
    {
      "cell_type": "markdown",
      "metadata": {
        "id": "7OcNANY24qMq"
      },
      "source": [
        "# Classes & Functions"
      ]
    },
    {
      "cell_type": "markdown",
      "metadata": {
        "id": "o2JzijLs5mrm"
      },
      "source": [
        "## VAE"
      ]
    },
    {
      "cell_type": "code",
      "metadata": {
        "id": "rIzsa6qL5Q1K"
      },
      "source": [
        "def format_history(history):\n",
        "    return {k: v.numpy() for k, v in history.items()}\n",
        "    \n",
        "\n",
        "class Sampling(Layer):\n",
        "    def call(self, inputs):\n",
        "        z_mean, z_log_var = inputs\n",
        "        batch = tf.shape(z_mean)[0]\n",
        "        dim = tf.shape(z_mean)[1]\n",
        "        epsilon = tf.keras.backend.random_normal(shape=(batch, dim))\n",
        "        return z_mean + tf.exp(0.5 * z_log_var) * epsilon\n",
        "\n",
        "\n",
        "class VAE(Model):\n",
        "\n",
        "    def __init__(self, encoder, decoder, **kwargs):\n",
        "        super(VAE, self).__init__(**kwargs)\n",
        "        self.encoder = encoder\n",
        "        self.decoder = decoder\n",
        "\n",
        "        self.history = defaultdict(list)\n",
        "    \n",
        "    def update_history(self, train_history, test_history):\n",
        "        for metric, value in train_history.items():\n",
        "            self.history[metric].append(value)\n",
        "        for metric, value in test_history.items():\n",
        "            self.history[f'val_{metric}'].append(value)\n",
        "    \n",
        "    def fit(self, X_train, X_test=None, y_train=None, y_test=None, datagen=None, n_steps=None, batch_size=32, num_epochs=5, verbose=2):\n",
        "        datagen = datagen or ImageDataGenerator()\n",
        "        train_generator = datagen.flow(X_train, y_train if y_train is not None else X_train, batch_size=batch_size)\n",
        "        \n",
        "        n_steps = n_steps or int(math.ceil(len(X_train) / batch_size))\n",
        "        for epoch in range(num_epochs):\n",
        "            for step in range(n_steps):\n",
        "                X_batch, y_batch = next(train_generator)\n",
        "                train_history = format_history(self.train_step(X_batch, y_batch))\n",
        "                if verbose >= 2:\n",
        "                    if step % int(math.ceil(n_steps / 5)) == 0:\n",
        "                        print('.', end='')\n",
        "\n",
        "            test_history = (format_history(self.test_step(X_test, y_test))\n",
        "                            if X_test is not None\n",
        "                            else {})\n",
        "            self.update_history(train_history, test_history)\n",
        "            \n",
        "            if verbose >= 1 and epoch % 1 == 0:\n",
        "                print(f'Epoch {epoch}:', test_history)\n",
        "        return self.history\n",
        "\n",
        "    def get_losses(self, X, y=None):\n",
        "        z_mean, z_log_var, z = self.encoder(X)\n",
        "        reconstruction = self.decoder(z)\n",
        "        reconstruction_loss = tf.reduce_mean(tf.keras.losses.mean_squared_error(X if y is None else y, reconstruction))\n",
        "        reconstruction_loss *= 28 * 28\n",
        "        # TODO: https://stats.stackexchange.com/questions/341954/balancing-reconstruction-vs-kl-loss-variational-autoencoder\n",
        "        kl_loss = 1 + z_log_var - tf.square(z_mean) - tf.exp(z_log_var)\n",
        "        kl_loss = tf.reduce_mean(kl_loss)\n",
        "        kl_loss *= -0.5\n",
        "        total_loss = reconstruction_loss + kl_loss\n",
        "        return {'loss': total_loss,\n",
        "                'reconstruction_loss': reconstruction_loss,\n",
        "                'kl_loss': kl_loss}\n",
        "\n",
        "    @tf.function\n",
        "    def train_step(self, X, y=None):\n",
        "        with tf.GradientTape() as tape:\n",
        "            losses_dict = self.get_losses(X, y)\n",
        "        grads = tape.gradient(losses_dict['loss'], self.trainable_weights)\n",
        "        self.optimizer.apply_gradients(zip(grads, self.trainable_weights))\n",
        "        return losses_dict\n",
        "\n",
        "    @tf.function\n",
        "    def test_step(self, X, y=None):\n",
        "        losses_dict = self.get_losses(X, y)\n",
        "        return losses_dict"
      ],
      "execution_count": 2,
      "outputs": []
    },
    {
      "cell_type": "code",
      "metadata": {
        "id": "RsIRGXb68oZb"
      },
      "source": [
        "def get_encoder(input_shape, latent_dim):\n",
        "    encoder_inputs = Input(shape=input_shape)\n",
        "    x = Conv2D(filters=16, kernel_size=3, activation='relu', strides=(2, 2), padding='same')(encoder_inputs)\n",
        "    x = Conv2D(filters=32, kernel_size=3, activation='relu', strides=(2, 2), padding='same')(x)\n",
        "    x = BatchNormalization()(x)\n",
        "    x = Conv2D(filters=64, kernel_size=3, activation='relu', strides=(1, 1), padding='same')(x)\n",
        "    x = Conv2D(filters=128, kernel_size=3, activation='relu', strides=(7, 7), padding='same')(x)\n",
        "    x = Reshape((128,))(x)\n",
        "    x = BatchNormalization()(x)\n",
        "    z_mean = Dense(latent_dim)(x)\n",
        "    z_log_var = Dense(latent_dim)(x)\n",
        "    z = Sampling()([z_mean, z_log_var])\n",
        "    encoder = Model(encoder_inputs, [z_mean, z_log_var, z])\n",
        "    encoder._input_shape = input_shape\n",
        "    encoder._latent_dim = latent_dim\n",
        "    return encoder\n",
        "\n",
        "def get_decoder(latent_dim):\n",
        "    latent_inputs = Input(shape=(latent_dim, ))\n",
        "    x = Dense(128)(latent_inputs)\n",
        "    x = Reshape((1,1,128,))(x)\n",
        "    x = Conv2DTranspose(filters=128, kernel_size=3, activation='relu', strides=(2, 2), padding='same')(x)\n",
        "    x = Conv2DTranspose(filters=64, kernel_size=3, activation='relu', strides=(2, 2), padding='same')(x)\n",
        "    x = BatchNormalization()(x)\n",
        "    x = Conv2DTranspose(filters=32, kernel_size=3, activation='relu', strides=(7, 7), padding='same')(x)\n",
        "    x = Conv2DTranspose(filters=16, kernel_size=3, activation='relu', strides=(1, 1), padding='same')(x)\n",
        "    x = BatchNormalization()(x)\n",
        "    decoded = Conv2DTranspose(filters=1, kernel_size=3, activation='sigmoid', strides=(1, 1), padding='same')(x)\n",
        "    \n",
        "    decoder = Model(latent_inputs, decoded)\n",
        "    decoder._latent_dim = latent_dim\n",
        "    return decoder\n",
        "\n",
        "def get_classifier(encoder, n_classes):\n",
        "    encoder_inputs = Input(shape=encoder._input_shape)\n",
        "    _, _, encoded = encoder(encoder_inputs)\n",
        "    x = Dense(32, activation='relu')(encoded)\n",
        "    x = Dense(64, activation='relu')(x)\n",
        "    output = Dense(n_classes, activation='softmax')(x)\n",
        "    classifier = Model(encoder_inputs, output)\n",
        "    classifier._input_shape = encoder._input_shape\n",
        "    classifier._latent_dim = encoder._latent_dim\n",
        "    classifier._n_classes = n_classes\n",
        "    return classifier"
      ],
      "execution_count": 3,
      "outputs": []
    },
    {
      "cell_type": "markdown",
      "metadata": {
        "id": "Utgu8lG_5PTY"
      },
      "source": [
        "## Dataset"
      ]
    },
    {
      "cell_type": "code",
      "metadata": {
        "id": "42z0VqqL5Rbb"
      },
      "source": [
        "class Dataset(ABC):\n",
        "    n_classes: int = None\n",
        "\n",
        "    @staticmethod\n",
        "    def get_X_y() -> Tuple[np.ndarray, np.ndarray]:\n",
        "        raise NotImplementedError()\n",
        "\n",
        "    def load_data(\n",
        "        self,\n",
        "        frac: float = 1.0,\n",
        "        shuffle: bool = True,\n",
        "        random_state: int = 42\n",
        "    ) -> Tuple[np.ndarray, np.ndarray]:\n",
        "        X, y = self.__class__.get_X_y()\n",
        "        if shuffle:\n",
        "            np.random.seed(random_state)\n",
        "            shuffled = permutation(list(zip(X, y)))\n",
        "            X, y = tuple(zip(*shuffled))\n",
        "        if frac < 1.0:\n",
        "            n = int(frac*len(X))\n",
        "            X, y = X[:n], y[:n]\n",
        "        return np.array(X), np.array(y)\n",
        "        \n",
        "\n",
        "class MNIST(Dataset):\n",
        "    n_classes = 10\n",
        "    input_shape = (28, 28, 1)\n",
        "\n",
        "    @staticmethod\n",
        "    def get_X_y():\n",
        "        (X_train, y_train), (X_test, y_test) = tf.keras.datasets.mnist.load_data()\n",
        "        X = np.concatenate((X_train, X_test)).astype('float32') / 255\n",
        "        X = np.reshape(X, (len(X), 28, 28, 1))\n",
        "        y = np.concatenate((y_train, y_test))\n",
        "        return X, y"
      ],
      "execution_count": 4,
      "outputs": []
    },
    {
      "cell_type": "markdown",
      "metadata": {
        "id": "9FKhFlde4tQe"
      },
      "source": [
        "## Visualization"
      ]
    },
    {
      "cell_type": "code",
      "metadata": {
        "id": "JPiX59h64szK"
      },
      "source": [
        "def view_images(ims, decoder, encoder):\n",
        "    input_shape = ims[0].shape\n",
        "    decoded_ims = decoder(encoder(ims))\n",
        "\n",
        "    plt.figure(figsize=(20, 4))\n",
        "    n = len(ims)\n",
        "    for i in range(n):\n",
        "        # display original\n",
        "        im = ims[i].reshape(*input_shape[:-1]) if input_shape[-1] == 1 else ims[i]\n",
        "        ax = plt.subplot(2, n, i+1)\n",
        "        plt.imshow(im)\n",
        "        plt.gray()\n",
        "        ax.get_xaxis().set_visible(False)\n",
        "        ax.get_yaxis().set_visible(False)\n",
        "\n",
        "        # display reconstruction\n",
        "        decoded_im = decoded_ims[i].numpy()\n",
        "        decoded_im = decoded_ims[i].numpy().reshape(*input_shape[:-1]) if input_shape[-1] == 1 else decoded_ims[i].numpy()\n",
        "        ax = plt.subplot(2, n, i + n + 1)\n",
        "        plt.imshow(decoded_im)\n",
        "        plt.gray()\n",
        "        ax.get_xaxis().set_visible(False)\n",
        "        ax.get_yaxis().set_visible(False)\n",
        "    plt.show()\n",
        "\n",
        "def plot(labels, plots, title='', xlabel=None, ylabel=None, legend_loc='best'):\n",
        "    for p in plots:\n",
        "        plt.plot(p)\n",
        "    plt.title(title)\n",
        "    plt.ylabel(ylabel)\n",
        "    plt.xlabel(xlabel)\n",
        "    plt.legend(labels, loc=legend_loc)\n",
        "    plt.show()"
      ],
      "execution_count": 5,
      "outputs": []
    },
    {
      "cell_type": "markdown",
      "metadata": {
        "id": "26Ux3xkc6A0m"
      },
      "source": [
        "# Run"
      ]
    },
    {
      "cell_type": "markdown",
      "metadata": {
        "id": "AdpX-sP72R8z"
      },
      "source": [
        "## Load Data"
      ]
    },
    {
      "cell_type": "code",
      "metadata": {
        "id": "wQqYpAyfRDfW",
        "colab": {
          "base_uri": "https://localhost:8080/"
        },
        "outputId": "b0387fe6-a489-4367-8fb9-d244aba3ede3"
      },
      "source": [
        "mnist = MNIST()\n",
        "\n",
        "X, y = mnist.load_data(frac=0.5)\n",
        "input_shape = X[0].shape\n",
        "\n",
        "y_ohe = to_categorical(y)\n",
        "X_train, X_test, y_train, y_test = train_test_split(X, y_ohe, train_size=0.8, shuffle=True, random_state=42)\n",
        "\n",
        "print(X_train.shape)\n",
        "print(y_train.shape)"
      ],
      "execution_count": 6,
      "outputs": [
        {
          "output_type": "stream",
          "text": [
            "(28000, 28, 28, 1)\n",
            "(28000, 10)\n"
          ],
          "name": "stdout"
        }
      ]
    },
    {
      "cell_type": "markdown",
      "metadata": {
        "id": "E2kYC-ETOq7_"
      },
      "source": [
        "## Instantiate Model"
      ]
    },
    {
      "cell_type": "code",
      "metadata": {
        "id": "LaIk6Vjztv8X"
      },
      "source": [
        "latent_dim = 16"
      ],
      "execution_count": 7,
      "outputs": []
    },
    {
      "cell_type": "code",
      "metadata": {
        "id": "fVd-Rh0RrdFp"
      },
      "source": [
        "encoder = get_encoder(input_shape, latent_dim)\n",
        "#plot_model(encoder, show_shapes=True, show_layer_names=False, expand_nested=True)"
      ],
      "execution_count": 8,
      "outputs": []
    },
    {
      "cell_type": "code",
      "metadata": {
        "id": "PFzdDCtBrdF4"
      },
      "source": [
        "decoder = get_decoder(latent_dim)\n",
        "#plot_model(decoder, show_shapes=True, show_layer_names=False, expand_nested=True)"
      ],
      "execution_count": 9,
      "outputs": []
    },
    {
      "cell_type": "code",
      "metadata": {
        "id": "1Pv6E0FErdG1"
      },
      "source": [
        "classifier = get_classifier(encoder, mnist.n_classes)\n",
        "#plot_model(classifier, show_shapes=True, show_layer_names=False, expand_nested=True)"
      ],
      "execution_count": 14,
      "outputs": []
    },
    {
      "cell_type": "code",
      "metadata": {
        "id": "Tg84TBaGrdGD"
      },
      "source": [
        "vae = VAE(encoder, decoder)\n",
        "vae.compile(optimizer=Adam())"
      ],
      "execution_count": 10,
      "outputs": []
    },
    {
      "cell_type": "markdown",
      "metadata": {
        "id": "THFtONxWOva5"
      },
      "source": [
        "## Train VAE"
      ]
    },
    {
      "cell_type": "code",
      "metadata": {
        "id": "lEuebQzHrdGQ",
        "colab": {
          "base_uri": "https://localhost:8080/"
        },
        "outputId": "9ba150f8-5a91-4b9d-c14e-b43c9ca91b53"
      },
      "source": [
        "training_config = dict(\n",
        "    batch_size=32,\n",
        "    num_epochs=20,\n",
        "    verbose=2,\n",
        ")\n",
        "history = vae.fit(X_train, X_test, **training_config)"
      ],
      "execution_count": 11,
      "outputs": [
        {
          "output_type": "stream",
          "text": [
            ".....Epoch 0: {'loss': 28.124598, 'reconstruction_loss': 26.352037, 'kl_loss': 1.7725594}\n",
            ".....Epoch 1: {'loss': 20.69678, 'reconstruction_loss': 18.691135, 'kl_loss': 2.0056436}\n",
            ".....Epoch 2: {'loss': 18.464727, 'reconstruction_loss': 16.3694, 'kl_loss': 2.095327}\n",
            ".....Epoch 3: {'loss': 17.360544, 'reconstruction_loss': 15.21753, 'kl_loss': 2.1430135}\n",
            ".....Epoch 4: {'loss': 16.648293, 'reconstruction_loss': 14.483789, 'kl_loss': 2.1645038}\n",
            ".....Epoch 5: {'loss': 16.313057, 'reconstruction_loss': 14.192493, 'kl_loss': 2.1205633}\n",
            ".....Epoch 6: {'loss': 15.599704, 'reconstruction_loss': 13.380298, 'kl_loss': 2.2194064}\n",
            ".....Epoch 7: {'loss': 15.352402, 'reconstruction_loss': 13.143362, 'kl_loss': 2.2090394}\n",
            ".....Epoch 8: {'loss': 15.234913, 'reconstruction_loss': 13.041852, 'kl_loss': 2.1930606}\n",
            ".....Epoch 9: {'loss': 15.121122, 'reconstruction_loss': 12.957361, 'kl_loss': 2.1637607}\n",
            ".....Epoch 10: {'loss': 14.908346, 'reconstruction_loss': 12.725459, 'kl_loss': 2.1828876}\n",
            ".....Epoch 11: {'loss': 14.620298, 'reconstruction_loss': 12.420414, 'kl_loss': 2.1998842}\n",
            ".....Epoch 12: {'loss': 14.700764, 'reconstruction_loss': 12.493799, 'kl_loss': 2.2069643}\n",
            ".....Epoch 13: {'loss': 14.466577, 'reconstruction_loss': 12.298137, 'kl_loss': 2.16844}\n",
            ".....Epoch 14: {'loss': 14.3639965, 'reconstruction_loss': 12.133339, 'kl_loss': 2.2306576}\n",
            ".....Epoch 15: {'loss': 14.326633, 'reconstruction_loss': 12.114729, 'kl_loss': 2.2119048}\n",
            ".....Epoch 16: {'loss': 14.441427, 'reconstruction_loss': 12.215811, 'kl_loss': 2.2256167}\n",
            ".....Epoch 17: {'loss': 14.248795, 'reconstruction_loss': 12.076576, 'kl_loss': 2.1722186}\n",
            ".....Epoch 18: {'loss': 14.017188, 'reconstruction_loss': 11.805709, 'kl_loss': 2.2114794}\n",
            ".....Epoch 19: {'loss': 14.29932, 'reconstruction_loss': 12.067249, 'kl_loss': 2.232071}\n"
          ],
          "name": "stdout"
        }
      ]
    },
    {
      "cell_type": "code",
      "metadata": {
        "id": "Ka4Rn_lTrdGd",
        "colab": {
          "base_uri": "https://localhost:8080/",
          "height": 295
        },
        "outputId": "ea8c917b-f068-4c81-af6f-cb6d5e88060e"
      },
      "source": [
        "plot(labels=['train', 'test'],\n",
        "     plots=(history['loss'], history['val_loss']),\n",
        "     title='VAE Loss',\n",
        "     xlabel='epoch',\n",
        "     ylabel='loss')"
      ],
      "execution_count": 12,
      "outputs": [
        {
          "output_type": "display_data",
          "data": {
            "image/png": "[encoded data removed]",
            "text/plain": [
              "<Figure size 432x288 with 1 Axes>"
            ]
          },
          "metadata": {
            "tags": [],
            "needs_background": "light"
          }
        }
      ]
    },
    {
      "cell_type": "code",
      "metadata": {
        "id": "N-OOLqikrdGr",
        "colab": {
          "base_uri": "https://localhost:8080/",
          "height": 248
        },
        "outputId": "fe132cc5-01cb-49ee-c706-f1475b7a4c3a"
      },
      "source": [
        "view_images(X_test[:10], decoder, encoder)"
      ],
      "execution_count": 13,
      "outputs": [
        {
          "output_type": "display_data",
          "data": {
            "image/png": "[encoded data removed]",
            "text/plain": [
              "<Figure size 1440x288 with 20 Axes>"
            ]
          },
          "metadata": {
            "tags": [],
            "needs_background": "light"
          }
        }
      ]
    },
    {
      "cell_type": "markdown",
      "metadata": {
        "id": "AV5rTeJEPCSl"
      },
      "source": [
        "## Train Classifier"
      ]
    },
    {
      "cell_type": "code",
      "metadata": {
        "id": "s53eUyANrdG9",
        "colab": {
          "base_uri": "https://localhost:8080/"
        },
        "outputId": "5896a973-4e0d-4ab0-8f8f-478fd20a124f"
      },
      "source": [
        "classifier.compile(\n",
        "    optimizer=Adam(),\n",
        "    loss=CategoricalCrossentropy(),\n",
        "    metrics=[CategoricalAccuracy()]\n",
        ")\n",
        "history = classifier.fit(\n",
        "    X_train, y_train,\n",
        "    epochs=10,\n",
        "    validation_data=(X_test, y_test),\n",
        "    verbose=1\n",
        ")"
      ],
      "execution_count": 15,
      "outputs": [
        {
          "output_type": "stream",
          "text": [
            "Epoch 1/10\n",
            "875/875 [==============================] - 3s 4ms/step - loss: 0.2896 - categorical_accuracy: 0.9123 - val_loss: 0.1394 - val_categorical_accuracy: 0.9601\n",
            "Epoch 2/10\n",
            "875/875 [==============================] - 3s 4ms/step - loss: 0.1177 - categorical_accuracy: 0.9638 - val_loss: 0.1204 - val_categorical_accuracy: 0.9650\n",
            "Epoch 3/10\n",
            "875/875 [==============================] - 3s 3ms/step - loss: 0.0895 - categorical_accuracy: 0.9712 - val_loss: 0.1117 - val_categorical_accuracy: 0.9663\n",
            "Epoch 4/10\n",
            "875/875 [==============================] - 3s 4ms/step - loss: 0.0770 - categorical_accuracy: 0.9751 - val_loss: 0.1093 - val_categorical_accuracy: 0.9697\n",
            "Epoch 5/10\n",
            "875/875 [==============================] - 3s 4ms/step - loss: 0.0633 - categorical_accuracy: 0.9791 - val_loss: 0.1158 - val_categorical_accuracy: 0.9677\n",
            "Epoch 6/10\n",
            "875/875 [==============================] - 3s 4ms/step - loss: 0.0565 - categorical_accuracy: 0.9822 - val_loss: 0.1113 - val_categorical_accuracy: 0.9671\n",
            "Epoch 7/10\n",
            "875/875 [==============================] - 3s 4ms/step - loss: 0.0486 - categorical_accuracy: 0.9843 - val_loss: 0.1004 - val_categorical_accuracy: 0.9724\n",
            "Epoch 8/10\n",
            "875/875 [==============================] - 3s 4ms/step - loss: 0.0445 - categorical_accuracy: 0.9858 - val_loss: 0.1193 - val_categorical_accuracy: 0.9680\n",
            "Epoch 9/10\n",
            "875/875 [==============================] - 3s 3ms/step - loss: 0.0396 - categorical_accuracy: 0.9869 - val_loss: 0.1110 - val_categorical_accuracy: 0.9736\n",
            "Epoch 10/10\n",
            "875/875 [==============================] - 3s 4ms/step - loss: 0.0346 - categorical_accuracy: 0.9885 - val_loss: 0.1225 - val_categorical_accuracy: 0.9690\n"
          ],
          "name": "stdout"
        }
      ]
    },
    {
      "cell_type": "code",
      "metadata": {
        "id": "NnRBgnKardHF",
        "colab": {
          "base_uri": "https://localhost:8080/",
          "height": 295
        },
        "outputId": "bc483e29-9866-48c6-b097-b57ac0d21c63"
      },
      "source": [
        "plot(labels=['train', 'test'],\n",
        "     plots=(history.history['loss'], history.history['val_loss']),\n",
        "     title='Classification Loss (categorical_crossentropy)',\n",
        "     xlabel='epoch',\n",
        "     ylabel='loss')"
      ],
      "execution_count": 16,
      "outputs": [
        {
          "output_type": "display_data",
          "data": {
            "image/png": "[encoded data removed]",
            "text/plain": [
              "<Figure size 432x288 with 1 Axes>"
            ]
          },
          "metadata": {
            "tags": [],
            "needs_background": "light"
          }
        }
      ]
    },
    {
      "cell_type": "code",
      "metadata": {
        "id": "9GzQU6BRrdHM",
        "colab": {
          "base_uri": "https://localhost:8080/",
          "height": 295
        },
        "outputId": "7bbf4138-e4be-473e-ba7c-33d79912bea3"
      },
      "source": [
        "plot(labels=['train', 'test'],\n",
        "     plots=(history.history['categorical_accuracy'],\n",
        "            history.history['val_categorical_accuracy']),\n",
        "     title='Classification Accuracy (categorical_accuracy)',\n",
        "     xlabel='epoch',\n",
        "     ylabel='accuracy')"
      ],
      "execution_count": 17,
      "outputs": [
        {
          "output_type": "display_data",
          "data": {
            "image/png": "[encoded data removed]",
            "text/plain": [
              "<Figure size 432x288 with 1 Axes>"
            ]
          },
          "metadata": {
            "tags": [],
            "needs_background": "light"
          }
        }
      ]
    }
  ]
}