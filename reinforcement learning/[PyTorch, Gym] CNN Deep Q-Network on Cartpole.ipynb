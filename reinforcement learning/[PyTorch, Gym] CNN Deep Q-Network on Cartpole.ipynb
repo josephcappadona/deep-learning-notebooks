{
  "nbformat": 4,
  "nbformat_minor": 0,
  "metadata": {
    "colab": {
      "name": "[PyTorch, Gym] CNN Deep Q-Network on Cartpole.ipynb",
      "provenance": [],
      "collapsed_sections": []
    },
    "kernelspec": {
      "name": "python3",
      "display_name": "Python 3"
    },
    "accelerator": "GPU"
  },
  "cells": [
    {
      "cell_type": "markdown",
      "metadata": {
        "id": "9eaQA7nohzpB"
      },
      "source": [
        "## Setup"
      ]
    },
    {
      "cell_type": "code",
      "metadata": {
        "id": "acRAoifbwiMk"
      },
      "source": [
        "!pip -q install gym gym[atari] pyvirtualdisplay piglet\n",
        "!apt-get -qq update\n",
        "!apt-get -qq install python-opengl xvfb -y"
      ],
      "execution_count": 1,
      "outputs": []
    },
    {
      "cell_type": "code",
      "metadata": {
        "id": "T2DKa-y1uub9"
      },
      "source": [
        "import gym\n",
        "from gym import logger as gymlogger\n",
        "gymlogger.set_level(40)\n",
        "import numpy as np\n",
        "import random\n",
        "import matplotlib\n",
        "import matplotlib.pyplot as plt\n",
        "%matplotlib inline\n",
        "import math\n",
        "import io\n",
        "import base64\n",
        "from PIL import Image\n",
        "from collections import namedtuple\n",
        "\n",
        "import glob\n",
        "import os\n",
        "from gym.wrappers import Monitor\n",
        "from itertools import count\n",
        "from IPython.display import HTML\n",
        "from pyvirtualdisplay import Display\n",
        "from IPython import display as ipythondisplay\n",
        "\n",
        "import torch\n",
        "import torch.nn as nn\n",
        "import torch.optim as optim\n",
        "import torch.nn.functional as F\n",
        "import torchvision.transforms as T"
      ],
      "execution_count": 2,
      "outputs": []
    },
    {
      "cell_type": "code",
      "metadata": {
        "id": "UatInTM0u0C9"
      },
      "source": [
        "display = Display(visible=0, size=(1400, 900))\n",
        "display.start()\n",
        "\n",
        "if type(os.environ.get(\"DISPLAY\")) is not str or len(os.environ.get(\"DISPLAY\"))==0:\n",
        "    !bash ../xvfb start\n",
        "    %env DISPLAY=:1\n",
        "\n",
        "def show_video():\n",
        "    mp4list = glob.glob('video/*.mp4')\n",
        "    if len(mp4list) > 0:\n",
        "        mp4 = mp4list[0]\n",
        "        video = io.open(mp4, 'r+b').read()\n",
        "        encoded = base64.b64encode(video)\n",
        "        ipythondisplay.display(\n",
        "            HTML(\n",
        "                data='''\n",
        "                    <video alt=\"test\" controls style=\"height: 400px;\">\n",
        "                        <source src=\"data:video/mp4;base64,{0}\" type=\"video/mp4\" />\n",
        "                    </video>\n",
        "                '''.format(encoded.decode('ascii'))\n",
        "            )\n",
        "        )\n",
        "    else: \n",
        "        print(\"Could not find video\")\n",
        "\n",
        "def wrap_env(env):\n",
        "    env = Monitor(env, './video', force=True)\n",
        "    return env\n",
        "\n",
        "resize = T.Compose([T.ToPILImage(),\n",
        "                    T.Resize(80, interpolation=Image.CUBIC),\n",
        "                    T.ToTensor()])\n",
        "\n",
        "def get_screen(env):\n",
        "    screen = env.render(mode='rgb_array').transpose((2, 0, 1))\n",
        "    screen = np.ascontiguousarray(screen, dtype=np.float32) / 255\n",
        "    screen = torch.from_numpy(screen)\n",
        "    return resize(screen).unsqueeze(0)\n",
        "\n",
        "def make_video(policy, env, device='cpu'):\n",
        "    env = wrap_env(env)\n",
        "    env.reset()\n",
        "\n",
        "    last_screen = get_screen(env).to(device)\n",
        "    current_screen = get_screen(env).to(device)\n",
        "    state = current_screen - last_screen\n",
        "\n",
        "    while True:\n",
        "        env.render()\n",
        "\n",
        "        action = select_action(policy, state)\n",
        "        _, _, done, _ = env.step(action.item())\n",
        "\n",
        "        last_screen = current_screen\n",
        "        current_screen = get_screen(env).to(device)\n",
        "        next_state = current_screen - last_screen\n",
        "        state = next_state\n",
        "\n",
        "        if done:\n",
        "            break\n",
        "    env.close()"
      ],
      "execution_count": 3,
      "outputs": []
    },
    {
      "cell_type": "markdown",
      "metadata": {
        "id": "WsNjfxiEh2pt"
      },
      "source": [
        "## Classes & Functions"
      ]
    },
    {
      "cell_type": "code",
      "metadata": {
        "id": "VAqmoXfgrEYY"
      },
      "source": [
        "Transition = namedtuple('Transition',\n",
        "                        ('state', 'action', 'next_state', 'reward'))\n",
        "\n",
        "\n",
        "class ReplayMemory(object):\n",
        "\n",
        "    def __init__(self, capacity):\n",
        "        self.capacity = capacity\n",
        "        self.memory = []\n",
        "        self.position = 0\n",
        "\n",
        "    def push(self, *args):\n",
        "        if len(self.memory) < self.capacity:\n",
        "            self.memory.append(None)\n",
        "        self.memory[self.position] = Transition(*args)\n",
        "        self.position = (self.position + 1) % self.capacity\n",
        "\n",
        "    def sample(self, batch_size):\n",
        "        return random.sample(self.memory, batch_size)\n",
        "\n",
        "    def __len__(self):\n",
        "        return len(self.memory)"
      ],
      "execution_count": 4,
      "outputs": []
    },
    {
      "cell_type": "code",
      "metadata": {
        "id": "PPg7p3EQrEWI"
      },
      "source": [
        "class ConvDQN(nn.Module):\n",
        "\n",
        "    def __init__(self, h, w, outputs):\n",
        "        super(ConvDQN, self).__init__()\n",
        "\n",
        "        self.n_outputs = outputs\n",
        "\n",
        "        self.conv1 = nn.Conv2d(3, 16, kernel_size=5, stride=2)\n",
        "        self.bn1 = nn.BatchNorm2d(16)\n",
        "        self.conv2 = nn.Conv2d(16, 32, kernel_size=5, stride=2)\n",
        "        self.bn2 = nn.BatchNorm2d(32)\n",
        "        self.conv3 = nn.Conv2d(32, 32, kernel_size=5, stride=2)\n",
        "        self.bn3 = nn.BatchNorm2d(32)\n",
        "\n",
        "        def conv2d_size_out(size, kernel_size = 5, stride = 2):\n",
        "            return (size - (kernel_size - 1) - 1) // stride  + 1\n",
        "        convw = conv2d_size_out(conv2d_size_out(conv2d_size_out(w)))\n",
        "        convh = conv2d_size_out(conv2d_size_out(conv2d_size_out(h)))\n",
        "        linear_input_size = convw * convh * 32\n",
        "        self.head = nn.Linear(linear_input_size, outputs)\n",
        "        \n",
        "    def forward(self, x):\n",
        "        x = F.relu(self.bn1(self.conv1(x)))\n",
        "        x = F.relu(self.bn2(self.conv2(x)))\n",
        "        x = F.relu(self.bn3(self.conv3(x)))\n",
        "        return self.head(x.view(x.size(0), -1))"
      ],
      "execution_count": 5,
      "outputs": []
    },
    {
      "cell_type": "code",
      "metadata": {
        "id": "zulP1_hYrERq"
      },
      "source": [
        "def select_action(policy, state):\n",
        "    with torch.no_grad():\n",
        "        _, idx = policy(state).max(1)\n",
        "        return idx.view(1, 1)\n",
        "\n",
        "def select_action_eps(policy, state, epsilon=0.9, device='cpu'):\n",
        "    if random.random() < epsilon:\n",
        "        return select_action(policy, state)\n",
        "    else:\n",
        "        return torch.tensor([[random.randrange(policy.n_outputs)]],\n",
        "                            device=device,\n",
        "                            dtype=torch.long)"
      ],
      "execution_count": 6,
      "outputs": []
    },
    {
      "cell_type": "code",
      "metadata": {
        "id": "jsTxjlCHrEP4"
      },
      "source": [
        "def optimize_model(policy, target, memory, loss_fn=F.smooth_l1_loss, batch_size=32, gamma=0.9):\n",
        "    if len(memory) < batch_size:\n",
        "        return\n",
        "    transitions = memory.sample(batch_size)\n",
        "    batch = Transition(*zip(*transitions))\n",
        "\n",
        "    non_final_mask = torch.tensor(tuple(map(lambda s: s is not None, batch.next_state)),\n",
        "                                  device=device,\n",
        "                                  dtype=torch.bool)\n",
        "    non_final_next_states = torch.cat([s for s in batch.next_state if s is not None])\n",
        "    state_batch = torch.cat(batch.state)\n",
        "    action_batch = torch.cat(batch.action)\n",
        "    reward_batch = torch.cat(batch.reward)\n",
        "\n",
        "    # Compute Q(s_t, a)\n",
        "    state_action_values = policy(state_batch).gather(1, action_batch)\n",
        "\n",
        "    # Compute V(s_{t+1})\n",
        "    next_state_values = torch.zeros(batch_size, device=device)\n",
        "    next_state_values[non_final_mask] = target(non_final_next_states).max(1)[0].detach()\n",
        "\n",
        "    # Compute the expected Q values\n",
        "    expected_state_action_values = (next_state_values * gamma) + reward_batch\n",
        "\n",
        "    loss = loss_fn(state_action_values, expected_state_action_values.unsqueeze(1))\n",
        "\n",
        "    optimizer.zero_grad()\n",
        "    loss.backward()\n",
        "    optimizer.step()\n",
        "    return loss.item()"
      ],
      "execution_count": 7,
      "outputs": []
    },
    {
      "cell_type": "code",
      "metadata": {
        "id": "Stg3LDcgrENf"
      },
      "source": [
        "def conv_train(env,\n",
        "               policy,\n",
        "               target,\n",
        "               optimizer,\n",
        "               memory,\n",
        "               num_episodes=50,\n",
        "               target_update=10,\n",
        "               device='cpu'):\n",
        "\n",
        "    episodes = []\n",
        "\n",
        "    for i_episode in range(num_episodes):\n",
        "        \n",
        "        env.reset()\n",
        "\n",
        "        last_screen = get_screen(env).to(device)\n",
        "        current_screen = get_screen(env).to(device)\n",
        "        state = current_screen - last_screen\n",
        "\n",
        "        for t in count():\n",
        "\n",
        "            action = select_action_eps(policy, state, device=device)\n",
        "            _, reward, done, _ = env.step(action.item())\n",
        "            reward = torch.tensor([reward], device=device)\n",
        "\n",
        "            last_screen = current_screen\n",
        "            current_screen = get_screen(env).to(device)\n",
        "            next_state = (current_screen - last_screen\n",
        "                          if not done\n",
        "                          else None)\n",
        "            \n",
        "            memory.push(state, action, next_state, reward)\n",
        "            \n",
        "            if len(memory) >= memory.capacity:\n",
        "                optimize_model(policy, target, memory)\n",
        "\n",
        "            if done:\n",
        "                episode = {\n",
        "                    'duration': t+1,\n",
        "                }\n",
        "                episodes.append(episode)\n",
        "                break\n",
        "            else:\n",
        "                state = next_state\n",
        "                \n",
        "        if i_episode % target_update == 0:\n",
        "            target.load_state_dict(policy.state_dict())\n",
        "\n",
        "    return episodes"
      ],
      "execution_count": 8,
      "outputs": []
    },
    {
      "cell_type": "code",
      "metadata": {
        "id": "nm8-r_wHd0UZ"
      },
      "source": [
        "def conv_train(env,\n",
        "                policy, target,\n",
        "                optimizer, memory,\n",
        "                reward_fn=(lambda env, obs: 1),\n",
        "                loss_fn=F.smooth_l1_loss,\n",
        "                num_episodes=100,\n",
        "                max_episode_len=10000,\n",
        "                target_update=10,\n",
        "                print_every=10,\n",
        "                device='cpu'):\n",
        "\n",
        "    episodes = []\n",
        "    i = 0\n",
        "\n",
        "    while True:\n",
        "\n",
        "        episode_losses = []\n",
        "        \n",
        "        obs = env.reset()\n",
        "        last_screen = get_screen(env).to(device)\n",
        "        current_screen = get_screen(env).to(device)\n",
        "        state = current_screen - last_screen\n",
        "        \n",
        "        for t in count():\n",
        "            \n",
        "            env.render()\n",
        "\n",
        "            action = select_action_eps(policy, state, epsilon=0.5, device=device)\n",
        "            obs, reward, done, _ = env.step(action.item())\n",
        "\n",
        "            reward = reward_fn(env, obs)\n",
        "            reward = torch.tensor([reward], device=device)\n",
        "            \n",
        "            last_screen = current_screen\n",
        "            current_screen = get_screen(env).to(device)\n",
        "            next_state = (current_screen - last_screen\n",
        "                          if not done\n",
        "                          else None)\n",
        "            \n",
        "            memory.push(state, action, next_state, reward)\n",
        "\n",
        "            # once memory is full, start learning\n",
        "            if len(memory) == memory.capacity:\n",
        "                \n",
        "                loss = optimize_model(policy, target, memory, loss_fn=loss_fn)\n",
        "                episode_losses.append(loss)\n",
        "\n",
        "                if done or t+1 == max_episode_len:\n",
        "                    episode = {\n",
        "                        'i': i+1,\n",
        "                        'duration': t+1,\n",
        "                        'avg_loss': np.mean(episode_losses)\n",
        "                    }\n",
        "                    episodes.append(episode)\n",
        "                    i += 1\n",
        "                    break\n",
        "            \n",
        "            if done or t+1 == max_episode_len:\n",
        "                break\n",
        "            state = next_state\n",
        "\n",
        "        if (i + 1) % print_every == 0:\n",
        "            print(i+1)\n",
        "                \n",
        "        if (i + 1) % target_update == 0:\n",
        "            target.load_state_dict(policy.state_dict())\n",
        "\n",
        "        if (i + 1) == num_episodes:\n",
        "            break\n",
        "\n",
        "    return episodes"
      ],
      "execution_count": 9,
      "outputs": []
    },
    {
      "cell_type": "code",
      "metadata": {
        "id": "2HQW21ENgJf3"
      },
      "source": [
        "def moving_average(x, w):\n",
        "    return np.convolve(x, np.ones(w), 'valid') / w\n",
        "    \n",
        "def plot_durations(durations, avg_window=25):\n",
        "    avgs = moving_average(durations, avg_window)\n",
        "    plt.plot(durations)\n",
        "    plt.plot(avgs)\n",
        "    plt.show()   \n",
        "\n",
        "def plot_losses(losses):\n",
        "    plt.plot(losses)\n",
        "    plt.show()"
      ],
      "execution_count": 10,
      "outputs": []
    },
    {
      "cell_type": "markdown",
      "metadata": {
        "id": "_51IEjIKtOI-"
      },
      "source": [
        "## Train"
      ]
    },
    {
      "cell_type": "code",
      "metadata": {
        "id": "EzEfgbhAoeyF"
      },
      "source": [
        "device = torch.device(\"cuda\" if torch.cuda.is_available() else \"cpu\")"
      ],
      "execution_count": 20,
      "outputs": []
    },
    {
      "cell_type": "code",
      "metadata": {
        "id": "A-ifFcNcJVux"
      },
      "source": [
        "env = gym.make('CartPole-v0').unwrapped\n",
        "env.reset();"
      ],
      "execution_count": 21,
      "outputs": []
    },
    {
      "cell_type": "code",
      "metadata": {
        "colab": {
          "base_uri": "https://localhost:8080/",
          "height": 268
        },
        "id": "POK_iFnvo7nl",
        "outputId": "04816a0f-e3ca-47d0-f713-6110c040a2b4"
      },
      "source": [
        "init_screen = get_screen(env).to(device)\n",
        "_, _, screen_height, screen_width = init_screen.shape\n",
        "\n",
        "plt.figure()\n",
        "plt.imshow(init_screen.cpu().squeeze(0).permute(1, 2, 0).numpy(), interpolation='none')\n",
        "plt.show()"
      ],
      "execution_count": 22,
      "outputs": [
        {
          "output_type": "display_data",
          "data": {
            "image/png": "[encoded data removed]",
            "text/plain": [
              "<Figure size 432x288 with 1 Axes>"
            ]
          },
          "metadata": {
            "tags": [],
            "needs_background": "light"
          }
        }
      ]
    },
    {
      "cell_type": "code",
      "metadata": {
        "id": "75a-pXBdhzCx"
      },
      "source": [
        "n_actions = env.action_space.n\n",
        "\n",
        "conv_policy_net = ConvDQN(screen_height, screen_width, n_actions).to(device)\n",
        "conv_target_net = ConvDQN(screen_height, screen_width, n_actions).to(device)\n",
        "\n",
        "conv_target_net.load_state_dict(conv_policy_net.state_dict())\n",
        "conv_target_net.eval()\n",
        "\n",
        "\n",
        "optimizer = optim.RMSprop(conv_policy_net.parameters())\n",
        "memory = ReplayMemory(2000)"
      ],
      "execution_count": 23,
      "outputs": []
    },
    {
      "cell_type": "code",
      "metadata": {
        "id": "q_nIr0ohjgoi",
        "colab": {
          "base_uri": "https://localhost:8080/"
        },
        "outputId": "2c928b86-75c5-4cf5-af7b-7a995151fd26"
      },
      "source": [
        "episodes = conv_train(env,\n",
        "                      conv_policy_net,\n",
        "                      conv_target_net,\n",
        "                      optimizer,\n",
        "                      memory,\n",
        "                      loss_fn=F.smooth_l1_loss,\n",
        "                      num_episodes=1000,\n",
        "                      max_episode_len=200,\n",
        "                      target_update=50,\n",
        "                      print_every=50,\n",
        "                      device=device)"
      ],
      "execution_count": 31,
      "outputs": [
        {
          "output_type": "stream",
          "text": [
            "50\n",
            "100\n",
            "150\n",
            "200\n",
            "250\n",
            "300\n",
            "350\n",
            "400\n",
            "450\n",
            "500\n",
            "550\n",
            "600\n",
            "650\n",
            "700\n",
            "750\n",
            "800\n",
            "850\n",
            "900\n",
            "950\n",
            "1000\n"
          ],
          "name": "stdout"
        }
      ]
    },
    {
      "cell_type": "code",
      "metadata": {
        "colab": {
          "base_uri": "https://localhost:8080/",
          "height": 265
        },
        "id": "5HI0Pg86rIsX",
        "outputId": "fc907814-35d3-49b9-d3b9-47696ad3f911"
      },
      "source": [
        "durations = [e['duration'] for e in episodes]\n",
        "plot_durations(durations)"
      ],
      "execution_count": 32,
      "outputs": [
        {
          "output_type": "display_data",
          "data": {
            "image/png": "[encoded data removed]",
            "text/plain": [
              "<Figure size 432x288 with 1 Axes>"
            ]
          },
          "metadata": {
            "tags": [],
            "needs_background": "light"
          }
        }
      ]
    },
    {
      "cell_type": "code",
      "metadata": {
        "colab": {
          "base_uri": "https://localhost:8080/",
          "height": 265
        },
        "id": "Yc9raIL9gaIa",
        "outputId": "0122f9f8-de8f-452d-d4ce-d7ac62495278"
      },
      "source": [
        "losses = [e['avg_loss'] for e in episodes]\n",
        "plot_losses(losses)"
      ],
      "execution_count": 33,
      "outputs": [
        {
          "output_type": "display_data",
          "data": {
            "image/png": "[encoded data removed]",
            "text/plain": [
              "<Figure size 432x288 with 1 Axes>"
            ]
          },
          "metadata": {
            "tags": [],
            "needs_background": "light"
          }
        }
      ]
    },
    {
      "cell_type": "markdown",
      "metadata": {
        "id": "otpj3cA_h7IS"
      },
      "source": [
        "## Test"
      ]
    },
    {
      "cell_type": "code",
      "metadata": {
        "id": "WfXmB987k3LT"
      },
      "source": [
        "make_video(conv_policy_net, env, device=device)"
      ],
      "execution_count": 34,
      "outputs": []
    },
    {
      "cell_type": "code",
      "metadata": {
        "colab": {
          "base_uri": "https://localhost:8080/",
          "height": 422
        },
        "id": "cNPWBhWHvd1P",
        "outputId": "f54034c7-2fb3-4869-efd8-88047eb48cb3"
      },
      "source": [
        "show_video()"
      ],
      "execution_count": 35,
      "outputs": [
        {
          "output_type": "display_data",
          "data": {
            "text/html": [
              "\n",
              "                    <video alt=\"test\" controls style=\"height: 400px;\">\n",
              "                        <source src=\"data:video/mp4;base64,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\" type=\"video/mp4\" />\n",
              "                    </video>\n",
              "                "
            ],
            "text/plain": [
              "<IPython.core.display.HTML object>"
            ]
          },
          "metadata": {
            "tags": []
          }
        }
      ]
    }
  ]
}