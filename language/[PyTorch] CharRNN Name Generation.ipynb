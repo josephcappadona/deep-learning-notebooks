{
  "nbformat": 4,
  "nbformat_minor": 0,
  "metadata": {
    "colab": {
      "name": "[PyTorch] CharRNN Name Generation.ipynb",
      "provenance": [],
      "collapsed_sections": []
    },
    "kernelspec": {
      "name": "python3",
      "display_name": "Python 3"
    },
    "accelerator": "GPU"
  },
  "cells": [
    {
      "cell_type": "code",
      "metadata": {
        "colab": {
          "base_uri": "https://localhost:8080/"
        },
        "id": "ALEgIPhIgNzt",
        "outputId": "3a43d8b3-8e64-4c0b-9073-23cd7b9e9d9d"
      },
      "source": [
        "!curl https://download.pytorch.org/tutorial/data.zip > data.zip\n",
        "!unzip -qqo data.zip && rm data.zip"
      ],
      "execution_count": 1,
      "outputs": [
        {
          "output_type": "stream",
          "text": [
            "  % Total    % Received % Xferd  Average Speed   Time    Time     Time  Current\n",
            "                                 Dload  Upload   Total   Spent    Left  Speed\n",
            "\r  0     0    0     0    0     0      0      0 --:--:-- --:--:-- --:--:--     0\r100 2814k  100 2814k    0     0  33.5M      0 --:--:-- --:--:-- --:--:-- 33.5M\n"
          ],
          "name": "stdout"
        }
      ]
    },
    {
      "cell_type": "code",
      "metadata": {
        "id": "7Uli6TnkfzbA"
      },
      "source": [
        "import torch\n",
        "import torch.nn as nn\n",
        "import torch.autograd\n",
        "import torch.optim as optim\n",
        "from torch.autograd import Variable\n",
        "import glob\n",
        "import unicodedata\n",
        "import string\n",
        "import sys\n",
        "import decimal\n",
        "import numpy as np\n",
        "import random\n",
        "import time\n",
        "import math\n",
        "import matplotlib.pyplot as plt\n",
        "import matplotlib.ticker as ticker"
      ],
      "execution_count": 2,
      "outputs": []
    },
    {
      "cell_type": "code",
      "metadata": {
        "colab": {
          "base_uri": "https://localhost:8080/"
        },
        "id": "stagQkC9fPhF",
        "outputId": "ebc53fdd-846e-40fa-e2bb-a20ccc435689"
      },
      "source": [
        "all_letters = list(string.ascii_letters + \" .,;'\")\n",
        "all_letters += ['<EOS>', '<SOS>']\n",
        "n_letters = len(all_letters)\n",
        "\n",
        "def charToIndex(letter):\n",
        "    return all_letters.index(letter)\n",
        "\n",
        "def findFiles(path):\n",
        "    return glob.glob(path)\n",
        "\n",
        "# Turn a Unicode string to plain ASCII, thanks to http://stackoverflow.com/a/518232/2809427\n",
        "def unicodeToAscii(s):\n",
        "    return ''.join(\n",
        "        c for c in unicodedata.normalize('NFD', s)\n",
        "        if unicodedata.category(c) != 'Mn'\n",
        "        and c in all_letters\n",
        "    )\n",
        "\n",
        "# Read a file and split into lines\n",
        "def readLines(filename):\n",
        "    lines = open(filename).read().strip().split('\\n')\n",
        "    return [unicodeToAscii(line) for line in lines]\n",
        "\n",
        "# Build the category_lines dictionary, a list of lines per category\n",
        "category_lines = {}\n",
        "all_categories = []\n",
        "for filename in findFiles('data/names/*.txt'):\n",
        "    category = filename.split('/')[-1].split('.')[0]\n",
        "    all_categories.append(category)\n",
        "    lines = readLines(filename)\n",
        "    category_lines[category] = lines\n",
        "\n",
        "n_categories = len(all_categories)\n",
        "print(all_categories)"
      ],
      "execution_count": 3,
      "outputs": [
        {
          "output_type": "stream",
          "text": [
            "['German', 'Greek', 'Italian', 'English', 'Portuguese', 'Chinese', 'Vietnamese', 'Irish', 'Spanish', 'Arabic', 'Polish', 'Dutch', 'Czech', 'Russian', 'French', 'Scottish', 'Korean', 'Japanese']\n"
          ],
          "name": "stdout"
        }
      ]
    },
    {
      "cell_type": "code",
      "metadata": {
        "id": "t4KfiSOij1CO"
      },
      "source": [
        "def nameToTensor(name):\n",
        "    return torch.LongTensor([charToIndex(char) for char in name])\n",
        "\n",
        "def categoryTensor(category):\n",
        "    cat_idx = all_categories.index(category)\n",
        "    return torch.LongTensor([cat_idx])\n",
        "\n",
        "def inputTensor(line):\n",
        "    res = []\n",
        "    res.append(charToIndex('<SOS>'))\n",
        "    res.extend([charToIndex(char) for char in line])\n",
        "    return torch.LongTensor(res)"
      ],
      "execution_count": 4,
      "outputs": []
    },
    {
      "cell_type": "code",
      "metadata": {
        "id": "VJvphfatjNJ7"
      },
      "source": [
        "# Random item from a list\n",
        "def randomChoice(l):\n",
        "    return l[random.randint(0, len(l) - 1)]\n",
        "\n",
        "# Get a random category and random line from that category\n",
        "def randomTrainingPair():\n",
        "    category = randomChoice(all_categories)\n",
        "    line = randomChoice(category_lines[category])\n",
        "    return category, line\n",
        "\n",
        "# LongTensor of second letter to end (EOS) for target\n",
        "def targetTensor(line):\n",
        "    char_idxs = [all_letters.index(char) for char in line]\n",
        "    char_idxs.append(charToIndex('<EOS>'))\n",
        "    return torch.LongTensor(char_idxs)\n",
        "\n",
        "def randomTrainingExample():\n",
        "    category, line = randomTrainingPair()\n",
        "    category_tensor = Variable(categoryTensor(category))\n",
        "    input_line_tensor = Variable(inputTensor(line))\n",
        "    target_line_tensor = Variable(targetTensor(line))\n",
        "    return category_tensor, input_line_tensor, target_line_tensor"
      ],
      "execution_count": 5,
      "outputs": []
    },
    {
      "cell_type": "code",
      "metadata": {
        "id": "UcTJ3jpafQye"
      },
      "source": [
        "class CharRNN(nn.Module):\n",
        "    def __init__(self, input_size,\n",
        "                 hidden_size,\n",
        "                 output_size,\n",
        "                 char_embedding_dim=110,\n",
        "                 cat_embedding_dim=18):\n",
        "        super(CharRNN, self).__init__()\n",
        "        self.hidden_size = hidden_size\n",
        "\n",
        "        self.embedding_cat = nn.Embedding(len(all_categories), cat_embedding_dim)\n",
        "        self.embedding_char = nn.Embedding(input_size, char_embedding_dim)\n",
        "        self.lstm = nn.LSTM(char_embedding_dim + cat_embedding_dim, hidden_size)\n",
        "        self.fc = nn.Linear(hidden_size, output_size)\n",
        "        self.softmax = nn.LogSoftmax(dim=1)\n",
        "\n",
        "    def forward(self, category, input, hidden):\n",
        "\n",
        "        cat_embed = self.embedding_cat(category)\n",
        "        char_embed = self.embedding_char(input)\n",
        "        combined = torch.cat((cat_embed, char_embed), 1).unsqueeze(1)\n",
        "\n",
        "        lstm_out, hidden = self.lstm(combined, hidden)\n",
        "        output = self.fc(lstm_out.squeeze(1))\n",
        "        output = self.softmax(output)\n",
        "\n",
        "        return output, hidden\n",
        "\n",
        "    def initHidden(self):\n",
        "        return (Variable(torch.zeros(1, 1, self.hidden_size)),\n",
        "                Variable(torch.zeros(1, 1, self.hidden_size)))"
      ],
      "execution_count": 6,
      "outputs": []
    },
    {
      "cell_type": "code",
      "metadata": {
        "id": "J5oSi2dWfsan"
      },
      "source": [
        "def train(category_tensor, input_line_tensor, target_line_tensor):\n",
        "    target_line_tensor.unsqueeze_(-1)\n",
        "    optimizer.zero_grad()\n",
        "    loss = 0\n",
        "    hidden = rnn.initHidden()\n",
        "    for i in range(input_line_tensor.size(0)):\n",
        "        output, hidden = rnn(category_tensor, input_line_tensor[i:i+1], hidden)\n",
        "        loss += criterion(output, target_line_tensor[i])\n",
        "    loss.backward()\n",
        "    optimizer.step()\n",
        "\n",
        "    return output, loss.item() / input_line_tensor.size(0)\n",
        "\n",
        "def timeSince(since):\n",
        "    now = time.time()\n",
        "    s = now - since\n",
        "    m = math.floor(s / 60)\n",
        "    s -= m * 60\n",
        "    return '%dm %ds' % (m, s)"
      ],
      "execution_count": 7,
      "outputs": []
    },
    {
      "cell_type": "code",
      "metadata": {
        "id": "sYbhvJlsJ1c2"
      },
      "source": [
        "rnn = CharRNN(n_letters, 128, n_letters, char_embedding_dim=110, cat_embedding_dim=18)\n",
        "\n",
        "criterion = nn.NLLLoss()\n",
        "learning_rate = 0.0005\n",
        "optimizer = optim.Adam(rnn.parameters(), learning_rate)"
      ],
      "execution_count": 8,
      "outputs": []
    },
    {
      "cell_type": "code",
      "metadata": {
        "colab": {
          "base_uri": "https://localhost:8080/"
        },
        "id": "_m3xr5pGmPR4",
        "outputId": "2f03a694-f2ec-4c25-f889-5fb8d65340d3"
      },
      "source": [
        "n_iters = 100000\n",
        "print_every = 5000\n",
        "plot_every = 500\n",
        "all_losses = []\n",
        "total_loss = 0\n",
        "\n",
        "start = time.time()\n",
        "for iter in range(1, n_iters + 1):\n",
        "\n",
        "    output, loss = train(*randomTrainingExample())\n",
        "    total_loss += loss\n",
        "\n",
        "    if iter % print_every == 0:\n",
        "        print('%s (%d %d%%) %.4f' % (timeSince(start), iter, iter / n_iters * 100, total_loss))\n",
        "    \n",
        "    if iter % plot_every == 0:\n",
        "        all_losses.append(total_loss / plot_every)\n",
        "        total_loss = 0\n",
        "\n",
        "torch.save(rnn, 'char-rnn-generation.pt')"
      ],
      "execution_count": 9,
      "outputs": [
        {
          "output_type": "stream",
          "text": [
            "0m 40s (5000 5%) 1088.8661\n",
            "1m 21s (10000 10%) 1003.0493\n",
            "2m 2s (15000 15%) 919.5977\n",
            "2m 43s (20000 20%) 883.0469\n",
            "3m 25s (25000 25%) 847.5935\n",
            "4m 6s (30000 30%) 817.0834\n",
            "4m 48s (35000 35%) 781.5126\n",
            "5m 29s (40000 40%) 775.7948\n",
            "6m 10s (45000 45%) 755.0847\n",
            "6m 52s (50000 50%) 776.0601\n",
            "7m 34s (55000 55%) 725.5971\n",
            "8m 15s (60000 60%) 700.6493\n",
            "8m 57s (65000 65%) 711.8130\n",
            "9m 38s (70000 70%) 687.0144\n",
            "10m 20s (75000 75%) 689.4207\n",
            "11m 2s (80000 80%) 690.2631\n",
            "11m 43s (85000 85%) 664.3756\n",
            "12m 25s (90000 90%) 664.9601\n",
            "13m 7s (95000 95%) 652.6284\n",
            "13m 48s (100000 100%) 631.9910\n"
          ],
          "name": "stdout"
        }
      ]
    },
    {
      "cell_type": "code",
      "metadata": {
        "colab": {
          "base_uri": "https://localhost:8080/",
          "height": 282
        },
        "id": "mzVyoi18dIFV",
        "outputId": "2769c267-ad1e-4573-f529-b8bd7942bad0"
      },
      "source": [
        "plt.figure()\n",
        "plt.plot(all_losses)"
      ],
      "execution_count": 10,
      "outputs": [
        {
          "output_type": "execute_result",
          "data": {
            "text/plain": [
              "[<matplotlib.lines.Line2D at 0x7f069dc487f0>]"
            ]
          },
          "metadata": {
            "tags": []
          },
          "execution_count": 10
        },
        {
          "output_type": "display_data",
          "data": {
            "image/png": "[encoded data removed]",
            "text/plain": [
              "<Figure size 432x288 with 1 Axes>"
            ]
          },
          "metadata": {
            "tags": [],
            "needs_background": "light"
          }
        }
      ]
    },
    {
      "cell_type": "code",
      "metadata": {
        "id": "YFkwUt5KEWJj"
      },
      "source": [
        "def beam_search(rnn, cat_tensor, k=1, max_length=25):\n",
        "    completed = []\n",
        "    frontier = [(0, ['<SOS>'], rnn.initHidden())]\n",
        "\n",
        "    for _ in range(max_length):\n",
        "        extended_frontier = []\n",
        "\n",
        "        # compute next char for each item in frontier\n",
        "        for score, seq, hidden in frontier:\n",
        "\n",
        "            char_tensor = torch.LongTensor([charToIndex(seq[-1])])\n",
        "            output, hidden = rnn(cat_tensor, char_tensor, hidden)\n",
        "            \n",
        "            scores, idxs = output.squeeze().topk(k)\n",
        "\n",
        "            # compute new scores for top next char prospects\n",
        "            for s, i in zip(scores, idxs):\n",
        "                unnormalized_score = score * len(seq)\n",
        "                new_score = (unnormalized_score + s) / (len(seq) + 1)\n",
        "\n",
        "                new_seq = seq + [all_letters[i]]\n",
        "                new_item = (new_score, new_seq, hidden)\n",
        "\n",
        "                if all_letters[i] == '<EOS>':\n",
        "                    completed.append(new_item)\n",
        "                else:\n",
        "                    extended_frontier.append(new_item)\n",
        "\n",
        "        if len(completed) >= k:\n",
        "            break\n",
        "        \n",
        "        frontier = sorted(extended_frontier, reverse=True)[:k - len(completed)]\n",
        "\n",
        "    res = []\n",
        "    for score, seq, _ in sorted(completed, reverse=True)[:k]:\n",
        "        res.append((score.item(), ''.join(seq[1:-1])))\n",
        "    return res"
      ],
      "execution_count": 11,
      "outputs": []
    },
    {
      "cell_type": "code",
      "metadata": {
        "id": "xROEO_xBfwUr",
        "colab": {
          "base_uri": "https://localhost:8080/"
        },
        "outputId": "befaadf0-0783-4b20-d5ae-65ac28727cc4"
      },
      "source": [
        "def sample(category):\n",
        "    cat_tensor = Variable(categoryTensor(category))\n",
        "    return beam_search(rnn, cat_tensor, k=3)\n",
        "\n",
        "for category in all_categories:\n",
        "    outputs = sample(category)\n",
        "    print('\\n====== {}'.format(category))\n",
        "    for score, seq in outputs:\n",
        "        print(f'{score:.3f} {seq}')"
      ],
      "execution_count": 12,
      "outputs": [
        {
          "output_type": "stream",
          "text": [
            "\n",
            "====== German\n",
            "-0.871 Scherm\n",
            "-1.189 Kaufma\n",
            "-1.275 Kaufm\n",
            "\n",
            "====== Greek\n",
            "-0.787 Tsouma\n",
            "-1.085 Kouropou\n",
            "-1.356 Kouro\n",
            "\n",
            "====== Italian\n",
            "-0.648 Carbone\n",
            "-0.745 Albani\n",
            "-1.069 Baro\n",
            "\n",
            "====== English\n",
            "-0.883 Macley\n",
            "-0.994 Maclear\n",
            "-1.226 Turn\n",
            "\n",
            "====== Portuguese\n",
            "-0.409 Machado\n",
            "-0.440 Franco\n",
            "-0.700 Mata\n",
            "\n",
            "====== Chinese\n",
            "-0.807 She\n",
            "-0.884 Chi\n",
            "-0.976 Che\n",
            "\n",
            "====== Vietnamese\n",
            "-0.515 Thao\n",
            "-0.929 La\n",
            "-1.293 Die\n",
            "\n",
            "====== Irish\n",
            "-0.506 Mahoney\n",
            "-0.876 Conn\n",
            "-1.010 Mahone\n",
            "\n",
            "====== Spanish\n",
            "-0.628 Araulla\n",
            "-0.722 Marti\n",
            "-1.130 Barro\n",
            "\n",
            "====== Arabic\n",
            "-0.521 Bazzi\n",
            "-0.574 Assaf\n",
            "-1.079 Baz\n",
            "\n",
            "====== Polish\n",
            "-0.594 Sokolof\n",
            "-1.048 Sokol\n",
            "-1.572 Koz\n",
            "\n",
            "====== Dutch\n",
            "-0.476 Romeijn\n",
            "-0.669 Sneider\n",
            "-1.437 Sneid\n",
            "\n",
            "====== Czech\n",
            "-0.858 Borovsk\n",
            "-0.963 Koma\n",
            "-1.131 Strak\n",
            "\n",
            "====== Russian\n",
            "-0.895 Babanov\n",
            "-0.938 Balakov\n",
            "-0.954 Babalov\n",
            "\n",
            "====== French\n",
            "-0.539 Bonnay\n",
            "-0.779 Bouchar\n",
            "-0.933 Bonnair\n",
            "\n",
            "====== Scottish\n",
            "-0.491 Maclean\n",
            "-0.916 Marshal\n",
            "-0.924 Macdonal\n",
            "\n",
            "====== Korean\n",
            "-0.817 You\n",
            "-0.822 Chi\n",
            "-0.930 Cho\n",
            "\n",
            "====== Japanese\n",
            "-0.594 Takemura\n",
            "-0.813 Takeda\n",
            "-0.854 Kawasa\n"
          ],
          "name": "stdout"
        }
      ]
    }
  ]
}