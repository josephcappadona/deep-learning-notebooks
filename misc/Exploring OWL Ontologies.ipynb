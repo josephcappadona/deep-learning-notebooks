{
  "nbformat": 4,
  "nbformat_minor": 0,
  "metadata": {
    "colab": {
      "name": "owlready2.ipynb",
      "provenance": [],
      "collapsed_sections": [],
      "authorship_tag": "ABX9TyMwrCoHGIK+HwF3nPdfro0W",
      "include_colab_link": true
    },
    "kernelspec": {
      "name": "python3",
      "display_name": "Python 3"
    }
  },
  "cells": [
    {
      "cell_type": "markdown",
      "metadata": {
        "id": "view-in-github",
        "colab_type": "text"
      },
      "source": [
        "<a href=\"https://colab.research.google.com/github/josephcappadona/machine-learning-notebooks/blob/main/misc/Exploring%20OWL%20Ontologies.ipynb\" target=\"_parent\"><img src=\"https://colab.research.google.com/assets/colab-badge.svg\" alt=\"Open In Colab\"/></a>"
      ]
    },
    {
      "cell_type": "code",
      "metadata": {
        "id": "5sqOJOJZ6dcX",
        "colab": {
          "base_uri": "https://localhost:8080/",
          "height": 221
        },
        "outputId": "df6b3e1e-ee49-484f-b79b-642de4706462"
      },
      "source": [
        "!pip install owlready2"
      ],
      "execution_count": null,
      "outputs": [
        {
          "output_type": "stream",
          "text": [
            "Collecting owlready2\n",
            "\u001b[?25l  Downloading https://files.pythonhosted.org/packages/af/1c/7e4c25d5539ac8979d633afe03d16ddb01716c6cde97ebea33a6659ea9c6/Owlready2-0.24.tar.gz (20.8MB)\n",
            "\u001b[K     |████████████████████████████████| 20.8MB 16.0MB/s \n",
            "\u001b[?25hBuilding wheels for collected packages: owlready2\n",
            "  Building wheel for owlready2 (setup.py) ... \u001b[?25l\u001b[?25hdone\n",
            "  Created wheel for owlready2: filename=Owlready2-0.24-cp36-cp36m-linux_x86_64.whl size=20263005 sha256=c310c028e2ec018f71dc9a3ba3ff5bb4b7cfefa63bde693d6c47830235768861\n",
            "  Stored in directory: /root/.cache/pip/wheels/66/87/0b/7a97bd19c9dc817b279aadb5dd920ce3a77050e2ab5a413f43\n",
            "Successfully built owlready2\n",
            "Installing collected packages: owlready2\n",
            "Successfully installed owlready2-0.24\n"
          ],
          "name": "stdout"
        }
      ]
    },
    {
      "cell_type": "code",
      "metadata": {
        "id": "0L6wLHsZ_5wP"
      },
      "source": [
        "import owlready2\n",
        "import os\n",
        "from pprint import pprint as print"
      ],
      "execution_count": null,
      "outputs": []
    },
    {
      "cell_type": "code",
      "metadata": {
        "id": "STx1QTuY_8Fb"
      },
      "source": [
        "owl_url = \"https://raw.githubusercontent.com/ayesha-banu79/Owl-Ontology/master/Library%20Ontology.owl\"\n",
        "O = owlready2.get_ontology(owl_url).load()\n",
        "owlready2.onto_path.append(os.getcwd())"
      ],
      "execution_count": null,
      "outputs": []
    },
    {
      "cell_type": "code",
      "metadata": {
        "id": "scfh-KC2Enao",
        "colab": {
          "base_uri": "https://localhost:8080/",
          "height": 35
        },
        "outputId": "ed7e7941-2180-44f9-f117-adbc12e96390"
      },
      "source": [
        "print(O.base_iri)"
      ],
      "execution_count": null,
      "outputs": [
        {
          "output_type": "stream",
          "text": [
            "'http://www.LibrarySystem.com/ontologies/LMS.owl#'\n"
          ],
          "name": "stdout"
        }
      ]
    },
    {
      "cell_type": "code",
      "metadata": {
        "id": "tLPKylnDBQ3l",
        "colab": {
          "base_uri": "https://localhost:8080/",
          "height": 237
        },
        "outputId": "b05a3714-852a-4f26-a0a4-79176ea07c83"
      },
      "source": [
        "C = list(O.classes())\n",
        "print(len(C))\n",
        "print(C[:10])\n",
        "print(C[0].ancestors())"
      ],
      "execution_count": null,
      "outputs": [
        {
          "output_type": "stream",
          "text": [
            "32\n",
            "[Library%20Ontology.Librarian,\n",
            " Library%20Ontology.PGStudent,\n",
            " Library%20Ontology.PGTextBook,\n",
            " Library%20Ontology.UGStudent,\n",
            " Library%20Ontology.UGTextBook,\n",
            " Library%20Ontology.Faculty,\n",
            " Library%20Ontology.OnlineJournal,\n",
            " Library%20Ontology.ResearchScholar,\n",
            " Library%20Ontology.TextBook,\n",
            " Library%20Ontology.Thesis]\n",
            "{Library%20Ontology.LibraryPersonnel, Library%20Ontology.Librarian, owl.Thing}\n"
          ],
          "name": "stdout"
        }
      ]
    },
    {
      "cell_type": "code",
      "metadata": {
        "id": "-J80p-stDDuw",
        "colab": {
          "base_uri": "https://localhost:8080/",
          "height": 219
        },
        "outputId": "9cd6e319-f430-4a62-b5d3-bfe9982f319b"
      },
      "source": [
        "I = list(O.individuals())\n",
        "print(len(I))\n",
        "print(I[:10])"
      ],
      "execution_count": null,
      "outputs": [
        {
          "output_type": "stream",
          "text": [
            "60\n",
            "[Library%20Ontology.George,\n",
            " Library%20Ontology.Mahendra,\n",
            " Library%20Ontology.William,\n",
            " Library%20Ontology.Stephen,\n",
            " Library%20Ontology.Pavani,\n",
            " Library%20Ontology.DataWarehousingAndDataMining,\n",
            " Library%20Ontology.CryptographyAndNetworkSecurity,\n",
            " Library%20Ontology.Peter,\n",
            " Library%20Ontology.Bob,\n",
            " Library%20Ontology.Kishore]\n"
          ],
          "name": "stdout"
        }
      ]
    },
    {
      "cell_type": "code",
      "metadata": {
        "id": "Q6ZUiSOHDJr4",
        "colab": {
          "base_uri": "https://localhost:8080/",
          "height": 219
        },
        "outputId": "dbb4d3b6-0300-45fa-99b8-6b0079bea2c8"
      },
      "source": [
        "OP = list(O.object_properties())\n",
        "print(len(OP))\n",
        "print(OP[:10])"
      ],
      "execution_count": null,
      "outputs": [
        {
          "output_type": "stream",
          "text": [
            "18\n",
            "[Library%20Ontology.AssociateWith,\n",
            " Library%20Ontology.Borrow,\n",
            " Library%20Ontology.isBorrowedBy,\n",
            " Library%20Ontology.Browse,\n",
            " Library%20Ontology.isBrowsedBy,\n",
            " Library%20Ontology.Issue,\n",
            " Library%20Ontology.isIssuedBy,\n",
            " Library%20Ontology.Refer,\n",
            " Library%20Ontology.isReferedBy,\n",
            " Library%20Ontology.Return]\n"
          ],
          "name": "stdout"
        }
      ]
    },
    {
      "cell_type": "code",
      "metadata": {
        "id": "rVsBrl3cD6Of",
        "colab": {
          "base_uri": "https://localhost:8080/",
          "height": 54
        },
        "outputId": "d9cb6bd2-871e-4d79-d5eb-389790de5da0"
      },
      "source": [
        "DP = list(O.data_properties())\n",
        "print(len(DP))\n",
        "print(DP[:10])"
      ],
      "execution_count": null,
      "outputs": [
        {
          "output_type": "stream",
          "text": [
            "1\n",
            "[Library%20Ontology.hasLibCards]\n"
          ],
          "name": "stdout"
        }
      ]
    },
    {
      "cell_type": "code",
      "metadata": {
        "id": "VGMinaImET8D",
        "colab": {
          "base_uri": "https://localhost:8080/",
          "height": 54
        },
        "outputId": "b8a7db87-8282-4ea9-c6b4-3d9644f92ffb"
      },
      "source": [
        "AP = list(O.annotation_properties())\n",
        "print(len(AP))\n",
        "print(AP[:10])"
      ],
      "execution_count": null,
      "outputs": [
        {
          "output_type": "stream",
          "text": [
            "0\n",
            "[]\n"
          ],
          "name": "stdout"
        }
      ]
    },
    {
      "cell_type": "code",
      "metadata": {
        "id": "ixb96DAfEdKk",
        "colab": {
          "base_uri": "https://localhost:8080/",
          "height": 219
        },
        "outputId": "fe8332e6-ddc8-42e5-d470-4e58a09aee41"
      },
      "source": [
        "P = list(O.properties())\n",
        "print(len(P))\n",
        "print(P[:10])"
      ],
      "execution_count": null,
      "outputs": [
        {
          "output_type": "stream",
          "text": [
            "19\n",
            "[Library%20Ontology.hasLibCards,\n",
            " Library%20Ontology.AssociateWith,\n",
            " Library%20Ontology.Borrow,\n",
            " Library%20Ontology.isBorrowedBy,\n",
            " Library%20Ontology.Browse,\n",
            " Library%20Ontology.isBrowsedBy,\n",
            " Library%20Ontology.Issue,\n",
            " Library%20Ontology.isIssuedBy,\n",
            " Library%20Ontology.Refer,\n",
            " Library%20Ontology.isReferedBy]\n"
          ],
          "name": "stdout"
        }
      ]
    },
    {
      "cell_type": "code",
      "metadata": {
        "id": "4OquacJNE6iA",
        "colab": {
          "base_uri": "https://localhost:8080/",
          "height": 166
        },
        "outputId": "59fcb5ce-c7ef-477f-a040-eca8931a323d"
      },
      "source": [
        "DC = list(O.disjoint_classes())\n",
        "print(len(DC))\n",
        "print(DC[:10])"
      ],
      "execution_count": null,
      "outputs": [
        {
          "output_type": "stream",
          "text": [
            "6\n",
            "[AllDisjoint([Library%20Ontology.GeneralBook, Library%20Ontology.ReferenceBook, Library%20Ontology.TextBook]),\n",
            " AllDisjoint([Library%20Ontology.LibraryMember, Library%20Ontology.LibraryPersonnel, Library%20Ontology.LibraryResource, Library%20Ontology.LibraryService]),\n",
            " AllDisjoint([Library%20Ontology.Book, Library%20Ontology.CD, Library%20Ontology.Journal, Library%20Ontology.NewsPaper, Library%20Ontology.OnlineJournal, Library%20Ontology.Thesis]),\n",
            " AllDisjoint([Library%20Ontology.AsstLibrarian, Library%20Ontology.JrAssistant, Library%20Ontology.Librarian, Library%20Ontology.Technician]),\n",
            " AllDisjoint([Library%20Ontology.PGStudent, Library%20Ontology.UGStudent]),\n",
            " AllDisjoint([Library%20Ontology.PGTextBook, Library%20Ontology.UGTextBook])]\n"
          ],
          "name": "stdout"
        }
      ]
    },
    {
      "cell_type": "code",
      "metadata": {
        "id": "23DKJBggFADI",
        "colab": {
          "base_uri": "https://localhost:8080/",
          "height": 54
        },
        "outputId": "68168fdd-91b8-457f-af9d-733cb5ae8391"
      },
      "source": [
        "DP = list(O.disjoint_properties())\n",
        "print(len(DP))\n",
        "print(DP[:10])"
      ],
      "execution_count": null,
      "outputs": [
        {
          "output_type": "stream",
          "text": [
            "0\n",
            "[]\n"
          ],
          "name": "stdout"
        }
      ]
    },
    {
      "cell_type": "code",
      "metadata": {
        "id": "B956831zFKMS",
        "colab": {
          "base_uri": "https://localhost:8080/",
          "height": 54
        },
        "outputId": "1c4aaabc-0990-4211-a03a-605b4e12992f"
      },
      "source": [
        "DI = list(O.disjoint_individuals or [])\n",
        "print(len(DI))\n",
        "print(DI[:10])"
      ],
      "execution_count": null,
      "outputs": [
        {
          "output_type": "stream",
          "text": [
            "0\n",
            "[]\n"
          ],
          "name": "stdout"
        }
      ]
    },
    {
      "cell_type": "code",
      "metadata": {
        "id": "uJzSeCOUFRXj",
        "colab": {
          "base_uri": "https://localhost:8080/",
          "height": 55
        },
        "outputId": "25babcc6-14ee-4bd8-83db-231d229dec1f"
      },
      "source": [
        "O.search(subclass_of = O.Book, )"
      ],
      "execution_count": null,
      "outputs": [
        {
          "output_type": "execute_result",
          "data": {
            "text/plain": [
              "[Library%20Ontology.Book, Library%20Ontology.TextBook, Library%20Ontology.GeneralBook, Library%20Ontology.ReferenceBook, Library%20Ontology.PGTextBook, Library%20Ontology.UGTextBook]"
            ]
          },
          "metadata": {
            "tags": []
          },
          "execution_count": 67
        }
      ]
    },
    {
      "cell_type": "code",
      "metadata": {
        "id": "FtP_ZAKhKZIM",
        "colab": {
          "base_uri": "https://localhost:8080/",
          "height": 90
        },
        "outputId": "955f19a6-cddd-4662-e144-b363865c36a3"
      },
      "source": [
        "print(O.metadata.comment)"
      ],
      "execution_count": null,
      "outputs": [
        {
          "output_type": "stream",
          "text": [
            "['LibrarySystem Ontology\\n'\n",
            " '\\n'\n",
            " 'This ontology describes the different classes and subclasses that exist in '\n",
            " 'any Library System and the relationships between each of them']\n"
          ],
          "name": "stdout"
        }
      ]
    },
    {
      "cell_type": "code",
      "metadata": {
        "id": "P1vNSxoSGidm"
      },
      "source": [
        "O.save()"
      ],
      "execution_count": null,
      "outputs": []
    },
    {
      "cell_type": "code",
      "metadata": {
        "id": "kd_ApnewGrrA",
        "colab": {
          "base_uri": "https://localhost:8080/",
          "height": 35
        },
        "outputId": "f097ad80-97ba-4e9e-fcef-3b4897189608"
      },
      "source": [
        "owlready2.onto_path"
      ],
      "execution_count": null,
      "outputs": [
        {
          "output_type": "execute_result",
          "data": {
            "text/plain": [
              "['/content']"
            ]
          },
          "metadata": {
            "tags": []
          },
          "execution_count": 82
        }
      ]
    }
  ]
}